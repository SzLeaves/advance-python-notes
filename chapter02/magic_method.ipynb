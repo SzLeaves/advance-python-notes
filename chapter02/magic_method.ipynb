{
 "cells": [
  {
   "cell_type": "code",
   "execution_count": 14,
   "metadata": {},
   "outputs": [],
   "source": [
    "class Company:\n",
    "    def __init__(self, employee_list) -> None:\n",
    "        self.employee = employee_list\n",
    "\n",
    "    def __str__(self) -> str:\n",
    "        return \"__str__: \" + \",\".join(self.employee)\n",
    "\n",
    "    def __repr__(self) -> str:\n",
    "        return \"__repr__: \" + \",\".join(self.employee)"
   ]
  },
  {
   "cell_type": "code",
   "execution_count": 15,
   "metadata": {},
   "outputs": [
    {
     "name": "stdout",
     "output_type": "stream",
     "text": [
      "__str__: tom,same,steve\n"
     ]
    }
   ],
   "source": [
    "company = Company(['tom', 'same', 'steve']) # 实例化时调用__init__\n",
    "print(company) # 调用__str__"
   ]
  },
  {
   "cell_type": "code",
   "execution_count": 16,
   "metadata": {},
   "outputs": [
    {
     "data": {
      "text/plain": [
       "__repr__: tom,same,steve"
      ]
     },
     "execution_count": 16,
     "metadata": {},
     "output_type": "execute_result"
    }
   ],
   "source": [
    "company # 调用__repr__"
   ]
  },
  {
   "cell_type": "code",
   "execution_count": 23,
   "metadata": {},
   "outputs": [
    {
     "name": "stdout",
     "output_type": "stream",
     "text": [
      "<__main__.Numbers object at 0x78133c0242f0>\n"
     ]
    },
    {
     "data": {
      "text/plain": [
       "10"
      ]
     },
     "execution_count": 23,
     "metadata": {},
     "output_type": "execute_result"
    }
   ],
   "source": [
    "class Numbers:\n",
    "    def __init__(self, num) -> None:\n",
    "        self.num = num\n",
    "\n",
    "    # 取绝对值，\n",
    "    def __abs__(self):\n",
    "        return abs(self.num)\n",
    "    \n",
    "n = Numbers(-10)\n",
    "# 通过abs()调用，直接放入class\n",
    "print(n)\n",
    "abs(n)"
   ]
  },
  {
   "cell_type": "code",
   "execution_count": 26,
   "metadata": {},
   "outputs": [
    {
     "name": "stdout",
     "output_type": "stream",
     "text": [
      "[4, 6]\n"
     ]
    }
   ],
   "source": [
    "# 二维向量\n",
    "class VectorD2:\n",
    "    def __init__(self, x, y) -> None:\n",
    "        self.x = x\n",
    "        self.y = y\n",
    "\n",
    "    # 向量加法\n",
    "    def __add__(self, other_vec):\n",
    "        return VectorD2(self.x + other_vec.x, self.y + other_vec.y)\n",
    "    \n",
    "    def __str__(self) -> str:\n",
    "        return \"[%d, %d]\" % (self.x, self.y)\n",
    "    \n",
    "vec_1 = VectorD2(1, 2)\n",
    "vec_2 = VectorD2(3, 4)\n",
    "print(vec_1 + vec_2) "
   ]
  },
  {
   "cell_type": "markdown",
   "metadata": {},
   "source": [
    "len()对python内置的原生对象(set, list, dict)会直接读取C定义的结构体而不是遍历计算长度"
   ]
  }
 ],
 "metadata": {
  "kernelspec": {
   "display_name": "venv",
   "language": "python",
   "name": "python3"
  },
  "language_info": {
   "codemirror_mode": {
    "name": "ipython",
    "version": 3
   },
   "file_extension": ".py",
   "mimetype": "text/x-python",
   "name": "python",
   "nbconvert_exporter": "python",
   "pygments_lexer": "ipython3",
   "version": "3.12.3"
  }
 },
 "nbformat": 4,
 "nbformat_minor": 2
}
