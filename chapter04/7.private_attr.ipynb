{
 "cells": [
  {
   "metadata": {},
   "cell_type": "markdown",
   "source": "### 私有属性 private",
   "id": "5d1bb91061d09940"
  },
  {
   "metadata": {},
   "cell_type": "markdown",
   "source": [
    "让内部属性不被外部访问，可以把属性的名称前加上两个下划线`__`  \n",
    "实例的变量名如果以`__`开头，就变成了一个私有变量（private），只有内部可以访问，外部不能访问"
   ],
   "id": "b94393d2e640a6f3"
  },
  {
   "cell_type": "code",
   "id": "initial_id",
   "metadata": {
    "collapsed": true,
    "ExecuteTime": {
     "end_time": "2024-06-19T03:53:30.734725Z",
     "start_time": "2024-06-19T03:53:30.727921Z"
    }
   },
   "source": [
    "class User:\n",
    "    def __init__(self, name):\n",
    "        # 私有成员\n",
    "        self.__name = name\n",
    "\n",
    "\n",
    "user = User(\"Hello\")\n",
    "# print(user.name) # 私有属性无法直接访问a"
   ],
   "outputs": [],
   "execution_count": 7
  },
  {
   "metadata": {},
   "cell_type": "markdown",
   "source": [
    "错误：`AttributeError: 'User' object has no attribute 'name'`  \n",
    "如果要对变量操作，可以编写get/set方法，确保了外部代码不能随意修改对象内部的状态，这样通过访问限制的保护，代码更加健壮"
   ],
   "id": "9519167a4dc1a0c8"
  },
  {
   "metadata": {
    "ExecuteTime": {
     "end_time": "2024-06-19T03:53:30.757608Z",
     "start_time": "2024-06-19T03:53:30.746846Z"
    }
   },
   "cell_type": "code",
   "source": [
    "class User:\n",
    "    def __init__(self, name):\n",
    "        # 私有成员\n",
    "        self.__name = name\n",
    "\n",
    "    def get_name(self):\n",
    "        return self.__name\n",
    "\n",
    "    def set_name(self, name):\n",
    "        self.__name = name\n",
    "\n",
    "\n",
    "user = User(\"Hello\")\n",
    "print(user.get_name())  # 获取私有变量\n",
    "user.set_name(\"World\")  # 设置私有变量\n",
    "print(user.get_name())"
   ],
   "id": "7d81252aa165933f",
   "outputs": [
    {
     "name": "stdout",
     "output_type": "stream",
     "text": [
      "Hello\n",
      "World\n"
     ]
    }
   ],
   "execution_count": 8
  },
  {
   "metadata": {},
   "cell_type": "markdown",
   "source": [
    "实例变量有些以单下划线`_`开头，这样的变量可以直接访问，但是**按照约定俗成，应将其视为私有变量而不随意访问**  \n",
    "例如，将一个实例变量设为私有时，Python会将变量的名字改为`_[类名]__[变量名]`，所以实际上可以通过这样的形式直接访问私有变量："
   ],
   "id": "b3e1f14a6216fcc7"
  },
  {
   "metadata": {
    "ExecuteTime": {
     "end_time": "2024-06-19T03:53:30.771988Z",
     "start_time": "2024-06-19T03:53:30.764116Z"
    }
   },
   "cell_type": "code",
   "source": [
    "# _User就是一个这样的变量\n",
    "user._User__name"
   ],
   "id": "a2a72c89fe494fec",
   "outputs": [
    {
     "data": {
      "text/plain": [
       "'World'"
      ]
     },
     "execution_count": 9,
     "metadata": {},
     "output_type": "execute_result"
    }
   ],
   "execution_count": 9
  },
  {
   "metadata": {},
   "cell_type": "markdown",
   "source": "**正常情况不推荐这样做，不同版本的Python解释器可能会把`__name`改成不同的变量名，并且这样做破坏了对象的设计规则**",
   "id": "e5343dd0ccaf556e"
  }
 ],
 "metadata": {
  "kernelspec": {
   "display_name": "Python 3",
   "language": "python",
   "name": "python3"
  },
  "language_info": {
   "codemirror_mode": {
    "name": "ipython",
    "version": 2
   },
   "file_extension": ".py",
   "mimetype": "text/x-python",
   "name": "python",
   "nbconvert_exporter": "python",
   "pygments_lexer": "ipython2",
   "version": "2.7.6"
  }
 },
 "nbformat": 4,
 "nbformat_minor": 5
}
