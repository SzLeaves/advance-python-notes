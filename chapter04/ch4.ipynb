{
 "cells": [
  {
   "cell_type": "markdown",
   "metadata": {},
   "source": [
    "### 1. 鸭子类型 (动态语言的一个特性)"
   ]
  },
  {
   "cell_type": "code",
   "execution_count": 1,
   "metadata": {},
   "outputs": [
    {
     "name": "stdout",
     "output_type": "stream",
     "text": [
      "I am a cat\n",
      "I am a cat\n",
      "I am a dog\n",
      "I am a monkey\n"
     ]
    }
   ],
   "source": [
    "class Cat:\n",
    "    def say(self):\n",
    "        print(\"I am a cat\")\n",
    "\n",
    "\n",
    "class Dog:\n",
    "    def say(self):\n",
    "        print(\"I am a dog\")\n",
    "\n",
    "\n",
    "class Monkey:\n",
    "    def say(self):\n",
    "        print(\"I am a monkey\")\n",
    "\n",
    "# 普通调用\n",
    "animals = Cat\n",
    "animals().say()\n",
    "\n",
    "# 所有的对象只要实现了同一种方法，就可以调用这个方法，与class无关\n",
    "animals_list = [Cat, Dog, Monkey]\n",
    "for x in animals_list:\n",
    "    x().say()"
   ]
  },
  {
   "cell_type": "code",
   "execution_count": 2,
   "metadata": {},
   "outputs": [],
   "source": [
    "## 其他语言的写法：继承多态\n",
    "class Animal:\n",
    "    def say(self):\n",
    "        print(\"I am animal\")\n",
    "\n",
    "class Cat(Animal):\n",
    "    def say(self):\n",
    "        print(\"I am a cat\")\n",
    "\n",
    "## 只有继承后才有父类的say()方法, python的鸭子类型更灵活"
   ]
  },
  {
   "cell_type": "code",
   "execution_count": 3,
   "metadata": {},
   "outputs": [
    {
     "name": "stdout",
     "output_type": "stream",
     "text": [
      "[1, 2, 3, 4, 5, 6, '3', '2', '1', 'a', 'b']\n"
     ]
    }
   ],
   "source": [
    "# iterable的多态\n",
    "l1 = [1, 2, 3]\n",
    "t1 = (4, 5, 6)\n",
    "s1 = set([\"1\", \"2\", \"3\"])\n",
    "d1 = {\"a\": 1, \"b\": 2}\n",
    "l1.extend(t1)  # extend可以传递iterable类型的参数\n",
    "l1.extend(s1)\n",
    "l1.extend(d1)  # dict默认传参只会传入key\n",
    "print(l1)"
   ]
  },
  {
   "cell_type": "code",
   "execution_count": 4,
   "metadata": {},
   "outputs": [
    {
     "name": "stdout",
     "output_type": "stream",
     "text": [
      "[1, 2, 3, 4, 5, 6, '3', '2', '1', 'a', 'b', 'tom', 'sam', 'steve']\n"
     ]
    }
   ],
   "source": [
    "# 魔法函数就是鸭子类型的实现\n",
    "class Company:\n",
    "    def __init__(self, employee_list):\n",
    "        self.employee = employee_list\n",
    "\n",
    "    # 可迭代类型 iterable, python会当成集合类处理\n",
    "    def __getitem__(self, item):\n",
    "        return self.employee[item]\n",
    "\n",
    "    # 返回一个对象的长度\n",
    "    def __len__(self):\n",
    "        return len(self.employee)\n",
    "\n",
    "\n",
    "company = Company([\"tom\", \"sam\", \"steve\"])\n",
    "l1.extend(company)  # Company使用了__getitem__ 拥有集合属性\n",
    "print(l1)"
   ]
  },
  {
   "cell_type": "markdown",
   "metadata": {},
   "source": [
    "### 2. 抽象基类 `abc` (相当于Java的接口)\n",
    "接口可以实现多个class进行implements，`abc`不能实例化\n",
    "抽象基类在python中用的比较少，主要靠鸭子类型和mixin实现多态"
   ]
  },
  {
   "cell_type": "code",
   "execution_count": 5,
   "metadata": {},
   "outputs": [
    {
     "data": {
      "text/plain": [
       "True"
      ]
     },
     "execution_count": 5,
     "metadata": {},
     "output_type": "execute_result"
    }
   ],
   "source": [
    "# abc在python的一些应用：\n",
    "## 检查某个对象是否有某种方法（通过isinstance判断是否为同一种class）\n",
    "from collections.abc import Sized\n",
    "# 判断是否有__len__方法\n",
    "isinstance(Company([]), Sized)"
   ]
  },
  {
   "cell_type": "code",
   "execution_count": 6,
   "metadata": {},
   "outputs": [],
   "source": [
    "## 设计框架，需要制定子类必须实现某些方法，实现规范\n",
    "# 例如：实现web框架里面的cache缓存，这个cache支持redis等数据库\n",
    "import abc\n",
    "\n",
    "\n",
    "class CacheBase(metaclass=abc.ABCMeta):\n",
    "    @abc.abstractmethod\n",
    "    def get(self, key):\n",
    "        pass\n",
    "\n",
    "    @abc.abstractmethod\n",
    "    def set(self, key, value):\n",
    "        pass\n",
    "\n",
    "\n",
    "class RedisCache(CacheBase):\n",
    "    def get(self, key):\n",
    "        pass\n",
    "\n",
    "    def set(self, key, value):\n",
    "        pass\n",
    "\n",
    "\n",
    "\n",
    "\n",
    "\"\"\"\n",
    "class RedisCache(CacheBase):\n",
    "    pass\n",
    "\n",
    "redis_cache = RedisCache() # 如果不实现父类的method, 实例化时就会报错\n",
    "## TypeError: Can't instantiate abstract class RedisCache without an implementation for abstract methods 'get', 'set'\n",
    "\"\"\"\n",
    "\n",
    "redis_cache = RedisCache()"
   ]
  },
  {
   "cell_type": "markdown",
   "metadata": {},
   "source": [
    "### 3.`isinstance`和`type`的区别"
   ]
  },
  {
   "cell_type": "code",
   "execution_count": 9,
   "metadata": {},
   "outputs": [
    {
     "name": "stdout",
     "output_type": "stream",
     "text": [
      "True\n",
      "True\n"
     ]
    }
   ],
   "source": [
    "class A:\n",
    "    pass\n",
    "\n",
    "\n",
    "class B(A):\n",
    "    pass\n",
    "\n",
    "# isinstance 会检查class的继承链，同类及其子类都会判断为相同 True\n",
    "print(isinstance(B(), A))\n",
    "print(isinstance(B(), B))"
   ]
  },
  {
   "cell_type": "markdown",
   "metadata": {},
   "source": [
    "使用type只会对返回当前对象的类型进行比较，不会去检查对象的继承关系，而isinstance会检查对象是否为某个类的子类、子类的实例"
   ]
  },
  {
   "cell_type": "code",
   "execution_count": 23,
   "metadata": {},
   "outputs": [
    {
     "name": "stdout",
     "output_type": "stream",
     "text": [
      "True\n",
      "<__main__.B object at 0x7d15fc656240>\n",
      "False\n",
      "<__main__.A object at 0x7d15fc656240>\n"
     ]
    }
   ],
   "source": [
    "# B是A的子类，但肯定不是同一个对象，所以使用type比较两者会返回False\n",
    "print(type(B()) is B)\n",
    "print(B())\n",
    "print(type(B()) is A)\n",
    "print(A())"
   ]
  },
  {
   "cell_type": "markdown",
   "metadata": {},
   "source": [
    "`==`和`is`的区别：\n",
    "1. `is` 用于比较对象的身份：\n",
    "   - `is` 检查两个对象是否是同一个对象\n",
    "   - 示例：`a is b` 返回 `True` 表示 `a` 和 `b` 引用同一个对象。\n",
    "\n",
    "2. `==` 用于比较对象的值：\n",
    "   - `==` 检查两个对象的值是否相等，而不关心它们是否是同一个对象。\n",
    "   - 示例：`a == b` 返回 `True` 表示 `a` 和 `b` 的值相等。"
   ]
  },
  {
   "cell_type": "markdown",
   "metadata": {},
   "source": [
    "### 4.`Class`的类变量和实例变量"
   ]
  },
  {
   "cell_type": "code",
   "execution_count": 35,
   "metadata": {},
   "outputs": [
    {
     "name": "stdout",
     "output_type": "stream",
     "text": [
      "a实例变量: 1 2\n",
      "A的类变量 11\n",
      "用实例a调用类变量: 11\n",
      "实例a调用类变量复制后:  a.var_a = 22 ,A.var_a = 11\n"
     ]
    }
   ],
   "source": [
    "class A:\n",
    "    var_a = 11  # 类变量\n",
    "\n",
    "    def __init__(self, x, y) -> None:\n",
    "        # 实例变量\n",
    "        self.x = x\n",
    "        self.y = y\n",
    "        \n",
    "a = A(1, 2)\n",
    "# 给类变量赋值\n",
    "print(\"a实例变量:\", a.x, a.y)\n",
    "print(\"A的类变量\", A.var_a)\n",
    "\n",
    "print(\"用实例a调用类变量:\", a.var_a)\n",
    "# 重新赋值?\n",
    "a.var_a = 22\n",
    "print(\"实例a调用类变量复制后: \", \"a.var_a =\", a.var_a, \",A.var_a =\", A.var_a)"
   ]
  },
  {
   "cell_type": "markdown",
   "metadata": {},
   "source": [
    "类变量与实例变量不干扰，当直接使用实例访问类变量时，会直接返回类变量，如"
   ]
  }
 ],
 "metadata": {
  "kernelspec": {
   "display_name": "venv",
   "language": "python",
   "name": "python3"
  },
  "language_info": {
   "codemirror_mode": {
    "name": "ipython",
    "version": 3
   },
   "file_extension": ".py",
   "mimetype": "text/x-python",
   "name": "python",
   "nbconvert_exporter": "python",
   "pygments_lexer": "ipython3",
   "version": "3.12.3"
  }
 },
 "nbformat": 4,
 "nbformat_minor": 2
}
