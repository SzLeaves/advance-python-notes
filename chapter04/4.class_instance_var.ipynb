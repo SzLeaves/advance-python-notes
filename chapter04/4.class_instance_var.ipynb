{
 "cells": [
  {
   "metadata": {},
   "cell_type": "markdown",
   "source": "### Class的类变量和实例变量",
   "id": "3a2abf9ebf8bade4"
  },
  {
   "metadata": {},
   "cell_type": "markdown",
   "source": [
    "**类变量**：\n",
    "   - 类变量是定义在类中，方法之外的变量，**它被所有该类的实例所共享**。\n",
    "   - 当类变量的值发生改变时，所有实例共享的该变量的值都会发生改变。\n",
    "   - 类变量通常用于定义属于整个类的属性或状态，或者在多个实例之间共享的数据。\n",
    "\n",
    "**实例变量**：\n",
    "   - 实例变量是定义在类的方法中（通常是`__init__`方法）的变量，它属于类的每个实例独有。\n",
    "   - 每个类的实例都有自己的一组实例变量，它们不会相互影响。\n",
    "   - 实例变量通常用于表示实例特有的属性或状态，每个实例可以根据需要独立设置和修改这些变量的值。"
   ],
   "id": "28b43813239108e8"
  },
  {
   "metadata": {},
   "cell_type": "markdown",
   "source": [
    "类变量与实例变量不干扰，当直接使用实例访问类变量时，会直接返回类变量  \n",
    "当使用实例调用类变量赋值时，并不会改变类变量的值，而是会**新绑定一个变量在当前实例上**  "
   ],
   "id": "6f7c0b6a038d4b40"
  },
  {
   "metadata": {
    "ExecuteTime": {
     "end_time": "2024-06-16T07:00:37.110058Z",
     "start_time": "2024-06-16T07:00:37.099935Z"
    }
   },
   "cell_type": "code",
   "source": [
    "class A:\n",
    "    var_a = 11  # 类变量\n",
    "\n",
    "    def __init__(self, x, y) -> None:\n",
    "        # 实例变量\n",
    "        self.x = x\n",
    "        self.y = y\n",
    "\n",
    "\n",
    "a = A(1, 2)\n",
    "# 给类变量赋值\n",
    "print(\"a实例变量:\", a.x, a.y)\n",
    "print(\"A的类变量\", A.var_a)\n",
    "\n",
    "print(\"用实例a调用类变量:\", a.var_a)\n",
    "# 重新赋值?\n",
    "a.var_a = 22\n",
    "print(\"实例a调用类变量赋值后: \", \"a.var_a =\", a.var_a, \",A.var_a =\", A.var_a)"
   ],
   "id": "f2cefcb760bf5479",
   "outputs": [
    {
     "name": "stdout",
     "output_type": "stream",
     "text": [
      "a实例变量: 1 2\n",
      "A的类变量 11\n",
      "用实例a调用类变量: 11\n",
      "实例a调用类变量复制后:  a.var_a = 22 ,A.var_a = 11\n"
     ]
    }
   ],
   "execution_count": 1
  },
  {
   "metadata": {},
   "cell_type": "markdown",
   "source": [
    "`a.var_a = 11`会在实例`a`上新绑定一个名为`var_a`的变量并赋值，与`A.var_a`没有关系  \n",
    "class会从实例开始向上查找变量，例如，class会先在实例`a`查找实例变量`var_a`，如果没有则查找类变量是否存在  \n",
    "但是反之不行，class只能查找到类变量"
   ],
   "id": "8988f39782720116"
  }
 ],
 "metadata": {
  "kernelspec": {
   "display_name": "Python 3",
   "language": "python",
   "name": "python3"
  },
  "language_info": {
   "codemirror_mode": {
    "name": "ipython",
    "version": 2
   },
   "file_extension": ".py",
   "mimetype": "text/x-python",
   "name": "python",
   "nbconvert_exporter": "python",
   "pygments_lexer": "ipython2",
   "version": "2.7.6"
  }
 },
 "nbformat": 4,
 "nbformat_minor": 5
}
