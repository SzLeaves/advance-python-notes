{
 "cells": [
  {
   "metadata": {},
   "cell_type": "markdown",
   "source": "### MRO 类和实例属性的查找顺序",
   "id": "991b3015de968fc5"
  },
  {
   "metadata": {},
   "cell_type": "markdown",
   "source": [
    "**Python默认使用C3算法进行搜索**  \n",
    "\n",
    "Python2.2中使用的经典类使用的是DFS方法进行搜索，例如下面这个继承链"
   ],
   "id": "3fa2a5c035480ff3"
  },
  {
   "metadata": {
    "ExecuteTime": {
     "end_time": "2024-06-16T10:07:26.353580Z",
     "start_time": "2024-06-16T10:07:26.340061Z"
    }
   },
   "cell_type": "code",
   "source": [
    "class D:\n",
    "    pass\n",
    "\n",
    "\n",
    "class E:\n",
    "    pass\n",
    "\n",
    "\n",
    "# 子类B, C分别继承D, E\n",
    "class B(D):\n",
    "    pass\n",
    "\n",
    "\n",
    "class C(E):\n",
    "    pass\n",
    "\n",
    "\n",
    "# 子类A1继承B, C\n",
    "class A1(B, C):\n",
    "    pass"
   ],
   "id": "ebb3945c8f99c072",
   "outputs": [],
   "execution_count": 7
  },
  {
   "metadata": {},
   "cell_type": "markdown",
   "source": [
    "在Python2.2中使用DFS的继承顺序是：A -> B -> D -> C -> E  \n",
    "在菱形继承中，这种搜索算法会遗漏一些子类的属性，例如"
   ],
   "id": "d3fd63d685f790ac"
  },
  {
   "metadata": {
    "ExecuteTime": {
     "end_time": "2024-06-16T10:07:26.369637Z",
     "start_time": "2024-06-16T10:07:26.354579Z"
    }
   },
   "cell_type": "code",
   "source": [
    "# 菱形继承\n",
    "class D:\n",
    "    pass\n",
    "\n",
    "\n",
    "# B, C都继承D\n",
    "class B(D):\n",
    "    pass\n",
    "\n",
    "\n",
    "class C(D):\n",
    "    pass\n",
    "\n",
    "\n",
    "# A2继承B, C\n",
    "class A2(B, C):\n",
    "    pass"
   ],
   "id": "7ecd55fa0014ed81",
   "outputs": [],
   "execution_count": 8
  },
  {
   "metadata": {},
   "cell_type": "markdown",
   "source": [
    "DFS搜索的继承链：A2 -> B -> D -> C  \n",
    "此时如果C中重写了父类D的一个方法，调用该方法时  \n",
    "按照继承链就只能搜索到父类D的方法返回，无法调用C重写后的方法  \n",
    "\n",
    "BFS搜索也有类似的问题，在`A1`中如果使用BFS搜索，继承链为：A -> B -> C -> D -> E  \n",
    "此时如果C，D中有重名的方法，按照这个搜索链，C的方法就会被先搜索到，从而无法使用D的方法，而C和D之间没有继承关系  \n",
    "按照继承关系搜索应该是先在某个类及其父类中搜索后，再去别的继承链搜索（例如B -> D --> C -> E）  \n",
    "\n",
    "Python3中使用的C3算法解决了上述问题，可以使用`__mro__`查看class的继承顺序"
   ],
   "id": "a39110a89483a3ce"
  },
  {
   "metadata": {
    "ExecuteTime": {
     "end_time": "2024-06-16T10:07:26.385151Z",
     "start_time": "2024-06-16T10:07:26.370630Z"
    }
   },
   "cell_type": "code",
   "source": [
    "print(A1.__mro__)\n",
    "print(A2.__mro__)"
   ],
   "id": "1b6a6a0d2a827feb",
   "outputs": [
    {
     "name": "stdout",
     "output_type": "stream",
     "text": [
      "(<class '__main__.A1'>, <class '__main__.B'>, <class '__main__.D'>, <class '__main__.C'>, <class '__main__.E'>, <class 'object'>)\n",
      "(<class '__main__.A2'>, <class '__main__.B'>, <class '__main__.C'>, <class '__main__.D'>, <class 'object'>)\n"
     ]
    }
   ],
   "execution_count": 9
  },
  {
   "metadata": {},
   "cell_type": "markdown",
   "source": [
    "A1继承链：A1 -> B -> D -> C -> E -> Object  \n",
    "A2继承链：A2 -> B -> C -> D -> Object  \n",
    "\n",
    "Object是所有类的父类，Python3中所有类都会默认继承Object"
   ],
   "id": "97df6ebc3762f87c"
  },
  {
   "metadata": {},
   "cell_type": "markdown",
   "source": [
    "#### super的调用顺序\n",
    "**super不会直接调用最顶层的父类对象，而是按照MRO顺序调用其上一个直接父类对象**"
   ],
   "id": "435824762ebd2643"
  },
  {
   "metadata": {
    "ExecuteTime": {
     "end_time": "2024-06-19T11:24:51.604817Z",
     "start_time": "2024-06-19T11:24:51.590781Z"
    }
   },
   "cell_type": "code",
   "source": [
    "class D:\n",
    "    def __init__(self):\n",
    "        print(\"D\")\n",
    "\n",
    "\n",
    "# 子类B, C继承D\n",
    "class B(D):\n",
    "    def __init__(self):\n",
    "        print(\"B\")\n",
    "        super().__init__()\n",
    "\n",
    "\n",
    "class C(D):\n",
    "    def __init__(self):\n",
    "        print(\"C\")\n",
    "        super().__init__()\n",
    "\n",
    "\n",
    "# 子类A3继承B, C\n",
    "class A3(B, C):\n",
    "    def __init__(self):\n",
    "        print(\"A3\")\n",
    "        super().__init__()\n",
    "\n",
    "# 查看MRO\n",
    "print(A3.__mro__)"
   ],
   "id": "48d3017716f63518",
   "outputs": [
    {
     "name": "stdout",
     "output_type": "stream",
     "text": [
      "(<class '__main__.A3'>, <class '__main__.B'>, <class '__main__.C'>, <class '__main__.D'>, <class 'object'>)\n"
     ]
    }
   ],
   "execution_count": 10
  },
  {
   "metadata": {
    "ExecuteTime": {
     "end_time": "2024-06-19T11:20:54.224052Z",
     "start_time": "2024-06-19T11:20:54.210016Z"
    }
   },
   "cell_type": "code",
   "source": [
    "# 查看调用结果\n",
    "print(A3())"
   ],
   "id": "508b5fc33b573e2e",
   "outputs": [
    {
     "name": "stdout",
     "output_type": "stream",
     "text": [
      "A3\n",
      "B\n",
      "C\n",
      "D\n",
      "<__main__.A3 object at 0x0000024E635F6A30>\n"
     ]
    }
   ],
   "execution_count": 9
  },
  {
   "metadata": {},
   "cell_type": "markdown",
   "source": "可以看到，`super`的调用顺序遵循MRO顺序，A3的直接父类是B，B调用构造函数时不会直接调用顶层父类D的构造函数，而是按照MRO顺序调用C的构造函数",
   "id": "a42af6862b6e720e"
  }
 ],
 "metadata": {
  "kernelspec": {
   "display_name": "Python 3",
   "language": "python",
   "name": "python3"
  },
  "language_info": {
   "codemirror_mode": {
    "name": "ipython",
    "version": 2
   },
   "file_extension": ".py",
   "mimetype": "text/x-python",
   "name": "python",
   "nbconvert_exporter": "python",
   "pygments_lexer": "ipython2",
   "version": "2.7.6"
  }
 },
 "nbformat": 4,
 "nbformat_minor": 5
}
