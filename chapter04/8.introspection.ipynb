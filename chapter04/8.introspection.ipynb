{
 "cells": [
  {
   "metadata": {},
   "cell_type": "markdown",
   "source": [
    "### Python自省机制  \n",
    "通过特定方式查询对象的内部结构  "
   ],
   "id": "5b2133deecb2246a"
  },
  {
   "cell_type": "code",
   "id": "29133deb1a28f116",
   "metadata": {
    "collapsed": true,
    "ExecuteTime": {
     "end_time": "2024-06-19T11:06:59.047748Z",
     "start_time": "2024-06-19T11:06:59.033241Z"
    }
   },
   "source": [
    "class Person:\n",
    "    \"\"\"\n",
    "    类成员\n",
    "    \"\"\"\n",
    "    name = \"user\"\n",
    "\n",
    "\n",
    "class Student(Person):\n",
    "    def __init__(self, school_name):\n",
    "        # 实例成员\n",
    "        self.school_name = school_name"
   ],
   "outputs": [],
   "execution_count": 19
  },
  {
   "metadata": {},
   "cell_type": "markdown",
   "source": "1.可以使用`__dict__`方法查看当前对象包含的实例属性（包含的方法和变量），返回的字典可以直接取用这些属性的值",
   "id": "6eb9c117e48435dd"
  },
  {
   "metadata": {
    "ExecuteTime": {
     "end_time": "2024-06-19T11:06:59.063008Z",
     "start_time": "2024-06-19T11:06:59.048749Z"
    }
   },
   "cell_type": "code",
   "source": [
    "user = Student(\"stu1\")\n",
    "print(user.__dict__)"
   ],
   "id": "f415c0188cf80c41",
   "outputs": [
    {
     "name": "stdout",
     "output_type": "stream",
     "text": [
      "{'school_name': 'stu1'}\n"
     ]
    }
   ],
   "execution_count": 20
  },
  {
   "metadata": {
    "ExecuteTime": {
     "end_time": "2024-06-19T11:06:59.078511Z",
     "start_time": "2024-06-19T11:06:59.064005Z"
    }
   },
   "cell_type": "code",
   "source": [
    "print(Person.__dict__)\n",
    "# 直接获取属性值\n",
    "print(Person.__dict__['name'])"
   ],
   "id": "initial_id",
   "outputs": [
    {
     "name": "stdout",
     "output_type": "stream",
     "text": [
      "{'__module__': '__main__', '__doc__': '\\n    类成员\\n    ', 'name': 'user', '__dict__': <attribute '__dict__' of 'Person' objects>, '__weakref__': <attribute '__weakref__' of 'Person' objects>}\n",
      "user\n"
     ]
    }
   ],
   "execution_count": 21
  },
  {
   "metadata": {},
   "cell_type": "markdown",
   "source": "2.可以使用`dir`函数查看当前对象中的所有变量、方法和已定义的类型名称",
   "id": "122e3891088c5d95"
  },
  {
   "metadata": {
    "ExecuteTime": {
     "end_time": "2024-06-19T11:06:59.093183Z",
     "start_time": "2024-06-19T11:06:59.079512Z"
    }
   },
   "cell_type": "code",
   "source": "print(dir(Person))",
   "id": "f48aed576b20b590",
   "outputs": [
    {
     "name": "stdout",
     "output_type": "stream",
     "text": [
      "['__class__', '__delattr__', '__dict__', '__dir__', '__doc__', '__eq__', '__format__', '__ge__', '__getattribute__', '__gt__', '__hash__', '__init__', '__init_subclass__', '__le__', '__lt__', '__module__', '__ne__', '__new__', '__reduce__', '__reduce_ex__', '__repr__', '__setattr__', '__sizeof__', '__str__', '__subclasshook__', '__weakref__', 'name']\n"
     ]
    }
   ],
   "execution_count": 22
  },
  {
   "metadata": {
    "ExecuteTime": {
     "end_time": "2024-06-19T11:06:59.108687Z",
     "start_time": "2024-06-19T11:06:59.094174Z"
    }
   },
   "cell_type": "code",
   "source": "print(dir(user))",
   "id": "10aa6e14a59b55fd",
   "outputs": [
    {
     "name": "stdout",
     "output_type": "stream",
     "text": [
      "['__class__', '__delattr__', '__dict__', '__dir__', '__doc__', '__eq__', '__format__', '__ge__', '__getattribute__', '__gt__', '__hash__', '__init__', '__init_subclass__', '__le__', '__lt__', '__module__', '__ne__', '__new__', '__reduce__', '__reduce_ex__', '__repr__', '__setattr__', '__sizeof__', '__str__', '__subclasshook__', '__weakref__', 'name', 'school_name']\n"
     ]
    }
   ],
   "execution_count": 23
  }
 ],
 "metadata": {
  "kernelspec": {
   "display_name": "Python 3",
   "language": "python",
   "name": "python3"
  },
  "language_info": {
   "codemirror_mode": {
    "name": "ipython",
    "version": 2
   },
   "file_extension": ".py",
   "mimetype": "text/x-python",
   "name": "python",
   "nbconvert_exporter": "python",
   "pygments_lexer": "ipython2",
   "version": "2.7.6"
  }
 },
 "nbformat": 4,
 "nbformat_minor": 5
}
