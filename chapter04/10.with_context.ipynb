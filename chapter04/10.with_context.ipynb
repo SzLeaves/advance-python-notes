{
 "cells": [
  {
   "cell_type": "markdown",
   "id": "8832a8d46818b2bd",
   "metadata": {},
   "source": [
    "### 上下文管理器协议"
   ]
  },
  {
   "cell_type": "markdown",
   "id": "515774b029119b4",
   "metadata": {},
   "source": [
    "可以以一种更简洁的方式操作资源（如打开/关闭文件，连接/断开数据库...），也可以处理异常  \n",
    "上下文管理器有两种写法，一种是构建包含魔法函数`__enter__`和`__exit__`的类，一种是使用装饰器`@contextlib.contextmanager`"
   ]
  },
  {
   "cell_type": "code",
   "execution_count": 5,
   "id": "6f0edffffecd4021",
   "metadata": {
    "ExecuteTime": {
     "end_time": "2024-06-21T05:29:11.752520Z",
     "start_time": "2024-06-21T05:29:11.736894Z"
    }
   },
   "outputs": [],
   "source": [
    "# 构建包含__enter__和__exit__魔法函数的类 实现上下文管理器\n",
    "class Context:\n",
    "    # 获取资源，此处返回的对象会在with..as后声明的资源对象中使用\n",
    "    def __enter__(self):\n",
    "        print(\"ENTER\")\n",
    "        return self\n",
    "\n",
    "    # 释放资源\n",
    "    def __exit__(self, exc_type, exc_val, exc_tb):\n",
    "        print(\"EXIT\")\n",
    "\n",
    "    # 一些需要用到的功能\n",
    "    def func(self):\n",
    "        print(\"do sth...\")"
   ]
  },
  {
   "cell_type": "markdown",
   "id": "d717531fdf4bd4ef",
   "metadata": {},
   "source": [
    "使用上下文管理器的格式：\n",
    "```python\n",
    "with [上下文管理器对象的实例] as [资源对象]:\n",
    "    # 执行某些功能，例如调用资源对象的函数\n",
    "    ...\n",
    "```"
   ]
  },
  {
   "cell_type": "code",
   "execution_count": 6,
   "id": "b9e2ccf2ce8ca6ff",
   "metadata": {
    "ExecuteTime": {
     "end_time": "2024-06-21T05:29:11.768147Z",
     "start_time": "2024-06-21T05:29:11.752520Z"
    }
   },
   "outputs": [
    {
     "name": "stdout",
     "output_type": "stream",
     "text": [
      "ENTER\n",
      "do sth...\n",
      "EXIT\n"
     ]
    }
   ],
   "source": [
    "with Context() as context:\n",
    "    context.func()"
   ]
  },
  {
   "cell_type": "markdown",
   "id": "b5d6655e846b9398",
   "metadata": {},
   "source": [
    "在使用时，注意with后应声明上下文管理器对象的**一个实例**，**Python会将`__enter__`中返回的对象赋给as后声明的资源对象**    \n",
    "随后就可以使用资源对象进行操作，例如上面的资源对象`context`就可以使用func方法   \n",
    "可以看到在with块内，所有语句执行结束后会自动调用`__exit__`内的方法  \n",
    "\n",
    "`__enter__`方法不一定必须返回`self`，它可以返回任何值  \n",
    "**这取决于希望在 with 语句的上下文中使用什么对象**。`__enter__`返回的值会被绑定到 with as 语句中的目标变量"
   ]
  },
  {
   "cell_type": "markdown",
   "id": "5720478985e59179",
   "metadata": {},
   "source": [
    "通过`@contextlib.contextmanager`使用上下文管理器，相比声明一个类更加简介方便，适用于实现一些简单的功能  \n",
    "注意这个装饰器必须**修饰一个生成器对象(带有`yield`)**"
   ]
  },
  {
   "cell_type": "code",
   "execution_count": 1,
   "id": "ecc6432a639220a5",
   "metadata": {
    "ExecuteTime": {
     "end_time": "2024-06-21T05:29:11.783757Z",
     "start_time": "2024-06-21T05:29:11.768147Z"
    }
   },
   "outputs": [
    {
     "name": "stdout",
     "output_type": "stream",
     "text": [
      "ENTER\n",
      "context inner\n",
      "EXIT\n"
     ]
    }
   ],
   "source": [
    "# 通过装饰器@contextlib.contextmanager使用上下文管理器\n",
    "import contextlib\n",
    "\n",
    "\n",
    "@contextlib.contextmanager\n",
    "def contexts():\n",
    "    print(\"ENTER\")\n",
    "    # 必须修饰一个生成器\n",
    "    yield {}\n",
    "    print(\"EXIT\")\n",
    "\n",
    "\n",
    "with contexts() as con:\n",
    "    print(\"context inner\")"
   ]
  },
  {
   "cell_type": "markdown",
   "id": "65351bff81a4a845",
   "metadata": {},
   "source": [
    "上下文管理器还可以用在某些场景中代替`try...except`异常捕捉  \n",
    "使用`try...except`可能会出现大量的Exception判断逻辑，例如\n",
    "```python\n",
    "try:\n",
    "    print(\"code start\")\n",
    "    raise KeyError\n",
    "except KeyError as e:\n",
    "    print(\"key error\")\n",
    "else:\n",
    "    print(\"other error\")\n",
    "finally:\n",
    "    print(\"finally\")\n",
    "```\n",
    "这样一定程度上影响的代码可读性，此时使用上下文管理器可以这样判断"
   ]
  },
  {
   "cell_type": "code",
   "execution_count": 8,
   "id": "initial_id",
   "metadata": {
    "ExecuteTime": {
     "end_time": "2024-06-21T05:29:11.799394Z",
     "start_time": "2024-06-21T05:29:11.783757Z"
    }
   },
   "outputs": [
    {
     "name": "stdout",
     "output_type": "stream",
     "text": [
      "code startr\n",
      "key error\n",
      "finally\n"
     ]
    }
   ],
   "source": [
    "@contextlib.contextmanager\n",
    "def exception_func():\n",
    "    pass"
   ]
  }
 ],
 "metadata": {
  "kernelspec": {
   "display_name": "Python 3",
   "language": "python",
   "name": "python3"
  },
  "language_info": {
   "codemirror_mode": {
    "name": "ipython",
    "version": 3
   },
   "file_extension": ".py",
   "mimetype": "text/x-python",
   "name": "python",
   "nbconvert_exporter": "python",
   "pygments_lexer": "ipython3",
   "version": "3.9.9"
  }
 },
 "nbformat": 4,
 "nbformat_minor": 5
}
