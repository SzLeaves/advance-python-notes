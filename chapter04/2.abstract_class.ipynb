{
 "cells": [
  {
   "metadata": {},
   "cell_type": "markdown",
   "source": [
    "### 抽象基类 abc (相当于Java的接口)\n",
    "接口可以实现多个class进行implements，`abc`不能实例化  \n",
    "抽象基类在python中用的比较少，主要靠鸭子类型和mixin实现多态  "
   ],
   "id": "94ba025bbce0d839"
  },
  {
   "metadata": {
    "ExecuteTime": {
     "end_time": "2024-06-16T05:14:05.322972Z",
     "start_time": "2024-06-16T05:14:05.308461Z"
    }
   },
   "cell_type": "code",
   "source": [
    "import abc\n",
    "from collections.abc import Sized"
   ],
   "id": "df8a03a1733625c5",
   "outputs": [],
   "execution_count": 14
  },
  {
   "metadata": {},
   "cell_type": "markdown",
   "source": [
    "#### abc在python的应用：\n",
    "1. 检查某个对象是否有某种方法（通过`isinstance`判断是否为同一种class）  \n",
    "类型检查（动态语言只有运行时才能检查到类型错误，无法在编译时检查）"
   ],
   "id": "baeeeffd9090d5fd"
  },
  {
   "metadata": {
    "ExecuteTime": {
     "end_time": "2024-06-16T05:14:05.338570Z",
     "start_time": "2024-06-16T05:14:05.324480Z"
    }
   },
   "cell_type": "code",
   "source": [
    "class Company:\n",
    "    def __init__(self, employee_list):\n",
    "        self.employee = employee_list\n",
    "\n",
    "    # 返回一个对象的长度\n",
    "    def __len__(self):\n",
    "        return len(self.employee)\n",
    "\n",
    "\n",
    "company = Company([1, 2, 3])\n",
    "# 使用hasattr判断是否有__len__方法\n",
    "hasattr(company, \"__len__\")"
   ],
   "id": "b12c1835941208a7",
   "outputs": [
    {
     "data": {
      "text/plain": [
       "True"
      ]
     },
     "execution_count": 15,
     "metadata": {},
     "output_type": "execute_result"
    }
   ],
   "execution_count": 15
  },
  {
   "metadata": {},
   "cell_type": "markdown",
   "source": [
    "Python的`hasattr`方法可以检测是否有`__len__`方法   \n",
    "但是通过`isinstance`可以在继承链上判断class中是否属于某种数据类型（比如`Sized`）  \n",
    "\n",
    "`Sized`就是一种抽象基类，它用于表示具有`__len__`方法的对象，即可以获取对象的长度或大小的类。Sized类本身并不会强制要求类实现`__len__`方法，但它用于指示一个类是否应该提供这样的功能\n",
    "> 这有助于在编程时明确对象的特性，提高代码的可读性和可维护性"
   ],
   "id": "d8fbdb3d1309ec0f"
  },
  {
   "metadata": {
    "ExecuteTime": {
     "end_time": "2024-06-16T05:14:05.354601Z",
     "start_time": "2024-06-16T05:14:05.339572Z"
    }
   },
   "cell_type": "code",
   "source": [
    "# 使用抽象基类Sized判断是否有__len__方法\n",
    "isinstance(company, Sized)"
   ],
   "id": "bda828a0af41c16f",
   "outputs": [
    {
     "data": {
      "text/plain": [
       "True"
      ]
     },
     "execution_count": 16,
     "metadata": {},
     "output_type": "execute_result"
    }
   ],
   "execution_count": 16
  },
  {
   "metadata": {},
   "cell_type": "markdown",
   "source": [
    "2. 强制某个子类必须实现一些方法  \n",
    "例如：实现web框架里面的cache缓存，这个cache支持redis等数据库  \n",
    "设计框架需要制定子类必须实现某些方法，实现规范  \n",
    "\n",
    "通过使用`metaclass`定义抽象基类，使用`@abc.abstractmethod`装饰器将方法变为抽象方法  "
   ],
   "id": "7a48b87602da5eca"
  },
  {
   "metadata": {
    "ExecuteTime": {
     "end_time": "2024-06-16T05:18:21.304273Z",
     "start_time": "2024-06-16T05:18:21.297670Z"
    }
   },
   "cell_type": "code",
   "source": [
    "class CacheBase(metaclass=abc.ABCMeta):\n",
    "    @abc.abstractmethod\n",
    "    def get(self, key):\n",
    "        pass\n",
    "\n",
    "    @abc.abstractmethod\n",
    "    def set(self, key, value):\n",
    "        pass\n",
    "\n",
    "# 继承CacheBase，必须重写get和set两个方法\n",
    "class RedisCache(CacheBase):\n",
    "    def get(self, key):\n",
    "        pass\n",
    "\n",
    "    def set(self, key, value):\n",
    "        pass\n"
   ],
   "id": "84be9194f40ef3e5",
   "outputs": [],
   "execution_count": 18
  },
  {
   "metadata": {},
   "cell_type": "markdown",
   "source": [
    "如果子类不实现父类的abc method，实例化时就会报错\n",
    "```python\n",
    "class RedisCache(CacheBase):\n",
    "    pass\n",
    "redis_cache = RedisCache() # 实例化\n",
    "```\n",
    "`TypeError: Can't instantiate abstract class RedisCache without an implementation for abstract methods 'get', 'set'`"
   ],
   "id": "1c15842435b90e60"
  }
 ],
 "metadata": {
  "kernelspec": {
   "display_name": "Python 3",
   "language": "python",
   "name": "python3"
  },
  "language_info": {
   "codemirror_mode": {
    "name": "ipython",
    "version": 2
   },
   "file_extension": ".py",
   "mimetype": "text/x-python",
   "name": "python",
   "nbconvert_exporter": "python",
   "pygments_lexer": "ipython2",
   "version": "2.7.6"
  }
 },
 "nbformat": 4,
 "nbformat_minor": 5
}
