{
 "cells": [
  {
   "metadata": {},
   "cell_type": "markdown",
   "source": "### 类方法，静态方法和实例方法",
   "id": "6c8596ccf7a8a9bb"
  },
  {
   "metadata": {},
   "cell_type": "markdown",
   "source": [
    "**实例方法**：\n",
    "* 实例方法是最常见的方法类型，在类中定义时，第一个参数通常是`self`，代表当前实例对象。\n",
    "* 通过实例对象调用实例方法时，Python会自动将调用对象作为`self`参数传递给方法。\n",
    "* 实例方法可以访问并操作实例的属性，也可以访问类的属性和调用其他实例方法。\n",
    "\n",
    "**类方法**：\n",
    "*  类方法使用`@classmethod`装饰器进行定义，在类中的方法声明时，第一个参数通常是`cls`，代表当前类本身。\n",
    "*  通过类或实例对象调用类方法时，Python会自动将类作为`cls`参数传递给方法。\n",
    "* 类方法可以访问并修改类的属性，但不能直接访问实例的属性。类方法通常用于对类级别的属性和行为进行操作。\n",
    "\n",
    "**静态方法**：\n",
    "* 静态方法使用`@staticmethod`装饰器进行定义，它与类或实例无关，没有默认的额外参数。\n",
    "* 静态方法不需要传递类或实例对象，因此它不会自动绑定类或实例，类似于普通函数。\n",
    "* 静态方法通常用于实现与类相关的功能，但不需要访问类或实例的状态，是一种与类有关的工具函数。"
   ],
   "id": "8c7b7beeb125accc"
  },
  {
   "metadata": {},
   "cell_type": "markdown",
   "source": "示例：日期类",
   "id": "418b1badb979650d"
  },
  {
   "cell_type": "code",
   "id": "initial_id",
   "metadata": {
    "collapsed": true,
    "ExecuteTime": {
     "end_time": "2024-06-16T11:26:39.203274Z",
     "start_time": "2024-06-16T11:26:39.188436Z"
    }
   },
   "source": [
    "class Date:\n",
    "    # 构造函数\n",
    "    def __init__(self, year, month, day):\n",
    "        self.year = year\n",
    "        self.month = month\n",
    "        self.day = day\n",
    "\n",
    "    # 类方法，第一个参数会传入示例\n",
    "    def tomorrow(self):\n",
    "        self.day += 1\n",
    "\n",
    "    # 静态方法 使用@staticmethod装饰器\n",
    "    @staticmethod\n",
    "    def parse_from_string_static(date_str):\n",
    "        year, month, day = tuple(date_str.split(\"-\"))\n",
    "        # 这里有硬编码问题，如果更改了class名称这里的返回对象名称也要更改\n",
    "        return Date(int(year), int(month), int(day))\n",
    "\n",
    "    # 类方法，使用@classmethod装饰器，第一个参数会将class本体传入\n",
    "    # 与静态方法相比，类方法在需要使用到类本身的时候更适用\n",
    "    @classmethod\n",
    "    def parse_from_string_cls(cls, date_str):\n",
    "        year, month, day = tuple(date_str.split(\"-\"))\n",
    "        # 这里只需要使用cls即可，当更换class名称时不需要改动代码\n",
    "        return cls(int(year), int(month), int(day))\n",
    "\n",
    "    # 静态方法 使用@staticmethod装饰器\n",
    "    @staticmethod\n",
    "    def valid_str(date_str):\n",
    "        year, month, day = tuple(date_str.split(\"-\"))\n",
    "        if int(year) > 0 and (int(month) > 0 and int(month) <= 12) and (int(day) > 0 and int(day) <= 31):\n",
    "            return True\n",
    "        else:\n",
    "            return False\n",
    "\n",
    "    def __str__(self):\n",
    "        return \"{year}/{month}/{day}\".format(year=self.year, month=self.month, day=self.day)"
   ],
   "outputs": [],
   "execution_count": 19
  },
  {
   "metadata": {
    "ExecuteTime": {
     "end_time": "2024-06-16T11:26:39.218292Z",
     "start_time": "2024-06-16T11:26:39.206268Z"
    }
   },
   "cell_type": "code",
   "source": [
    "# 实例化\n",
    "new_day = Date(2018, 12, 31)\n",
    "# 调用类方法\n",
    "new_day.tomorrow()\n",
    "print(new_day)"
   ],
   "id": "cec7f9e88ad9d77c",
   "outputs": [
    {
     "name": "stdout",
     "output_type": "stream",
     "text": [
      "2018/12/32\n"
     ]
    }
   ],
   "execution_count": 20
  },
  {
   "metadata": {},
   "cell_type": "markdown",
   "source": [
    "静态方法通常作为工具方法，因为其不需要传递任何类和实例的对象作为参数   \n",
    "例如下面这种格式化字符串生成日期的功能就可以用静态方法实现，不需要自己构造参数来生成"
   ],
   "id": "ed8c57aee11f9160"
  },
  {
   "metadata": {
    "ExecuteTime": {
     "end_time": "2024-06-16T11:26:39.233927Z",
     "start_time": "2024-06-16T11:26:39.219286Z"
    }
   },
   "cell_type": "code",
   "source": [
    "date_str = \"2018-12-31\"\n",
    "year, month, day = tuple(date_str.split(\"-\"))\n",
    "new_day = Date(int(year), int(month), int(day))\n",
    "print(new_day)\n",
    "\n",
    "## 以下的调用都是使用class对象直接调用，而非实例\n",
    "# 用staticmethod完成初始化\n",
    "new_day = Date.parse_from_string_static(date_str)\n",
    "print(\"@staticmethod\", new_day)\n",
    "\n",
    "# 判断字符串是否合法\n",
    "print(\"判断date_str是否合法: \", Date.valid_str(date_str))"
   ],
   "id": "8f57eeeeea6a8a68",
   "outputs": [
    {
     "name": "stdout",
     "output_type": "stream",
     "text": [
      "2018/12/31\n",
      "@staticmethod 2018/12/31\n",
      "判断date_str是否合法:  True\n"
     ]
    }
   ],
   "execution_count": 21
  },
  {
   "metadata": {},
   "cell_type": "markdown",
   "source": "类方法在需要使用类本身进行操作时更适用，静态方法一般适合做各种判断",
   "id": "236b3cf7641f1330"
  },
  {
   "metadata": {
    "ExecuteTime": {
     "end_time": "2024-06-16T11:26:39.249437Z",
     "start_time": "2024-06-16T11:26:39.234928Z"
    }
   },
   "cell_type": "code",
   "source": [
    "# classmethod完成初始化\n",
    "new_day = Date.parse_from_string_cls(date_str)\n",
    "print(new_day)"
   ],
   "id": "479835c732d46b41",
   "outputs": [
    {
     "name": "stdout",
     "output_type": "stream",
     "text": [
      "2018/12/31\n"
     ]
    }
   ],
   "execution_count": 22
  }
 ],
 "metadata": {
  "kernelspec": {
   "display_name": "Python 3",
   "language": "python",
   "name": "python3"
  },
  "language_info": {
   "codemirror_mode": {
    "name": "ipython",
    "version": 2
   },
   "file_extension": ".py",
   "mimetype": "text/x-python",
   "name": "python",
   "nbconvert_exporter": "python",
   "pygments_lexer": "ipython2",
   "version": "2.7.6"
  }
 },
 "nbformat": 4,
 "nbformat_minor": 5
}
