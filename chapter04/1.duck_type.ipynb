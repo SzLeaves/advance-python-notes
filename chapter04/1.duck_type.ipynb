{
 "cells": [
  {
   "metadata": {},
   "cell_type": "markdown",
   "source": "### 鸭子类型 (动态语言的一个特性)",
   "id": "64f91e05eca96548"
  },
  {
   "cell_type": "code",
   "id": "55431431c0cee134",
   "metadata": {
    "collapsed": true,
    "ExecuteTime": {
     "end_time": "2024-06-16T03:07:05.064726Z",
     "start_time": "2024-06-16T03:07:05.046439Z"
    }
   },
   "source": [
    "class Cat:\n",
    "    def say(self):\n",
    "        print(\"I am a cat\")\n",
    "\n",
    "\n",
    "class Dog:\n",
    "    def say(self):\n",
    "        print(\"I am a dog\")\n",
    "\n",
    "\n",
    "class Monkey:\n",
    "    def say(self):\n",
    "        print(\"I am a monkey\")"
   ],
   "outputs": [],
   "execution_count": null
  },
  {
   "metadata": {
    "ExecuteTime": {
     "end_time": "2024-06-16T03:07:40.421578Z",
     "start_time": "2024-06-16T03:07:40.411565Z"
    }
   },
   "cell_type": "code",
   "source": [
    "# 普通调用\n",
    "animals = Cat\n",
    "animals().say()"
   ],
   "id": "153ef9bca9cec5c1",
   "outputs": [
    {
     "name": "stdout",
     "output_type": "stream",
     "text": [
      "I am a cat\n"
     ]
    }
   ],
   "execution_count": 5
  },
  {
   "metadata": {},
   "cell_type": "markdown",
   "source": "所有的对象只要实现了同一种方法（比如`say()`），就可以调用这个方法，与class无关",
   "id": "299a262a8879260b"
  },
  {
   "metadata": {
    "ExecuteTime": {
     "end_time": "2024-06-16T03:07:50.610587Z",
     "start_time": "2024-06-16T03:07:50.604587Z"
    }
   },
   "cell_type": "code",
   "source": [
    "animals_list = [Cat, Dog, Monkey]\n",
    "for x in animals_list:\n",
    "    x().say()"
   ],
   "id": "initial_id",
   "outputs": [
    {
     "name": "stdout",
     "output_type": "stream",
     "text": [
      "I am a cat\n",
      "I am a dog\n",
      "I am a monkey\n"
     ]
    }
   ],
   "execution_count": 6
  },
  {
   "metadata": {},
   "cell_type": "markdown",
   "source": [
    "如果是其他的语言（比如Java），需要用继承或者接口的方式解决\n",
    "```python\n",
    "# 其他语言的写法：继承多态\n",
    "class Animal:\n",
    "    def say(self):\n",
    "        print(\"I am animal\")\n",
    "\n",
    "class Cat(Animal):\n",
    "    def say(self):\n",
    "        print(\"I am a cat\")\n",
    "```\n",
    "只有在一条继承链上才有`say()`方法, python的鸭子类型更灵活"
   ],
   "id": "e790667287f9aa30"
  },
  {
   "metadata": {},
   "cell_type": "markdown",
   "source": "鸭子类型的示例：iterable的多态",
   "id": "3f8c259f52ad0f82"
  },
  {
   "metadata": {
    "ExecuteTime": {
     "end_time": "2024-06-16T03:13:54.969754Z",
     "start_time": "2024-06-16T03:13:54.956244Z"
    }
   },
   "cell_type": "code",
   "source": [
    "# 定义一些iterable对象\n",
    "l1 = [1, 2, 3]\n",
    "t1 = (4, 5, 6)\n",
    "s1 = {\"1\", \"2\", \"3\"}\n",
    "d1 = {\"a\": 1, \"b\": 2}\n",
    "\n",
    "# extend可以传递iterable类型的参数, list和set,dict都是\n",
    "l1.extend(t1)\n",
    "l1.extend(s1)\n",
    "l1.extend(d1)  # dict默认传参只会传入key\n",
    "print(l1)"
   ],
   "id": "92583335360dffd9",
   "outputs": [
    {
     "name": "stdout",
     "output_type": "stream",
     "text": [
      "[1, 2, 3, 4, 5, 6, '3', '1', '2', 'a', 'b']\n"
     ]
    }
   ],
   "execution_count": 7
  },
  {
   "metadata": {},
   "cell_type": "markdown",
   "source": [
    "魔法函数就是鸭子类型的实现  \n",
    "只需要加到class里面，class就会具备**对应的特性**（例如加入了`__getitem__`就可以让对象迭代）"
   ],
   "id": "18d2db0ecf8baf23"
  },
  {
   "metadata": {
    "ExecuteTime": {
     "end_time": "2024-06-16T03:07:18.994729Z",
     "start_time": "2024-06-16T03:07:18.981206Z"
    }
   },
   "cell_type": "code",
   "source": [
    "class Company:\n",
    "    def __init__(self, employee_list):\n",
    "        self.employee = employee_list\n",
    "\n",
    "    # 可迭代类型 iterable, python会当成集合类处理\n",
    "    def __getitem__(self, item):\n",
    "        return self.employee[item]\n",
    "\n",
    "    # 返回一个对象的长度\n",
    "    def __len__(self):\n",
    "        return len(self.employee)\n",
    "\n",
    "\n",
    "company = Company([\"tom\", \"sam\", \"steve\"])\n",
    "l1.extend(company)  # Company使用了__getitem__ 拥有集合属性\n",
    "print(l1)"
   ],
   "id": "3d45d7b3954526da",
   "outputs": [
    {
     "name": "stdout",
     "output_type": "stream",
     "text": [
      "[1, 2, 3, 4, 5, 6, '3', '1', '2', 'a', 'b', 'tom', 'sam', 'steve']\n"
     ]
    }
   ],
   "execution_count": 4
  }
 ],
 "metadata": {
  "kernelspec": {
   "display_name": "Python 3",
   "language": "python",
   "name": "python3"
  },
  "language_info": {
   "codemirror_mode": {
    "name": "ipython",
    "version": 2
   },
   "file_extension": ".py",
   "mimetype": "text/x-python",
   "name": "python",
   "nbconvert_exporter": "python",
   "pygments_lexer": "ipython2",
   "version": "2.7.6"
  }
 },
 "nbformat": 4,
 "nbformat_minor": 5
}
