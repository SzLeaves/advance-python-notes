{
 "cells": [
  {
   "metadata": {},
   "cell_type": "markdown",
   "source": "### `isinstance`和`type`的区别",
   "id": "82682a430f894082"
  },
  {
   "metadata": {},
   "cell_type": "markdown",
   "source": "`isinstance` 会检查class的继承链，同类及其子类都会判断为相同 True",
   "id": "115941c6256913f9"
  },
  {
   "metadata": {
    "ExecuteTime": {
     "end_time": "2024-06-16T05:24:36.369332Z",
     "start_time": "2024-06-16T05:24:36.361816Z"
    }
   },
   "cell_type": "code",
   "source": [
    "class A:\n",
    "    pass\n",
    "\n",
    "\n",
    "class B(A):\n",
    "    pass\n",
    "\n",
    "\n",
    "# A和B都是一个继承链上的，所以都是True\n",
    "print(isinstance(B(), A))\n",
    "print(isinstance(B(), B))"
   ],
   "id": "8674587ec8f3d427",
   "outputs": [
    {
     "name": "stdout",
     "output_type": "stream",
     "text": [
      "True\n",
      "True\n"
     ]
    }
   ],
   "execution_count": 1
  },
  {
   "metadata": {},
   "cell_type": "markdown",
   "source": [
    "使用type只会对返回当前对象的类型进行比较，不会去检查对象的继承关系  \n",
    "而isinstance会检查对象是否为某个类的子类、子类的实例"
   ],
   "id": "4e97effd2186c5"
  },
  {
   "metadata": {
    "ExecuteTime": {
     "end_time": "2024-06-16T05:30:24.093150Z",
     "start_time": "2024-06-16T05:30:24.090151Z"
    }
   },
   "cell_type": "code",
   "source": [
    "# B是A的子类，但肯定不是同一个对象，所以使用type比较两者会返回False\n",
    "print(type(B()) is B)\n",
    "print(B(), id(B))\n",
    "print(type(B()) is A)\n",
    "print(A(), id(A))"
   ],
   "id": "26b7c6dec01878fa",
   "outputs": [
    {
     "name": "stdout",
     "output_type": "stream",
     "text": [
      "True\n",
      "<__main__.B object at 0x000001B7053C6AF0> 1885563757440\n",
      "False\n",
      "<__main__.A object at 0x000001B7053C6AF0> 1885563772544\n"
     ]
    }
   ],
   "execution_count": 16
  },
  {
   "metadata": {},
   "cell_type": "markdown",
   "source": [
    "`==`和`is`的区别：\n",
    "1. `is` 用于比较对象的身份(id)：\n",
    "   - `is` 检查两个对象是否是同一个对象\n",
    "   - 示例：`a is b` 返回 `True` 表示 `a` 和 `b` 引用同一个对象。\n",
    "\n",
    "2. `==` 用于比较对象的值：\n",
    "   - `==` 检查两个对象的值是否相等，而不关心它们是否是同一个对象。\n",
    "   - 示例：`a == b` 返回 `True` 表示 `a` 和 `b` 的值相等。\n",
    "\n",
    "**所以在判断对象是否相同时要用`is`，不要把`is`和`==`混用**  \n",
    "**在判断同一类型的对象时应该用`isinstance`，因为它会检查继承链**"
   ],
   "id": "2f5232aa329b7927"
  }
 ],
 "metadata": {
  "kernelspec": {
   "display_name": "Python 3",
   "language": "python",
   "name": "python3"
  },
  "language_info": {
   "codemirror_mode": {
    "name": "ipython",
    "version": 2
   },
   "file_extension": ".py",
   "mimetype": "text/x-python",
   "name": "python",
   "nbconvert_exporter": "python",
   "pygments_lexer": "ipython2",
   "version": "2.7.6"
  }
 },
 "nbformat": 4,
 "nbformat_minor": 5
}
