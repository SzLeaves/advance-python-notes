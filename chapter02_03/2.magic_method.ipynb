{
 "cells": [
  {
   "metadata": {},
   "cell_type": "markdown",
   "source": "### Python的魔法函数"
  },
  {
   "metadata": {},
   "cell_type": "markdown",
   "source": [
    "魔法函数是以双下划线开头和结尾的方法: `__func__`  \n",
    "魔法函数是Python的一种数据模型，是一种独立存在，**使用时直接加入到`class`中即可，不需要通过继承等方法使用**"
   ]
  },
  {
   "cell_type": "code",
   "metadata": {
    "ExecuteTime": {
     "end_time": "2024-06-16T02:49:19.818108Z",
     "start_time": "2024-06-16T02:49:19.813101Z"
    }
   },
   "source": [
    "class Company:\n",
    "    def __init__(self, employee_list) -> None:\n",
    "        self.employee = employee_list\n",
    "\n",
    "    # 字符串输出的结果\n",
    "    def __str__(self):\n",
    "        return \"__str__: \" + \",\".join(self.employee)\n",
    "\n",
    "    # 只调用对象本身返回的结果\n",
    "    def __repr__(self):\n",
    "        return \"__repr__: \" + \",\".join(self.employee)\n",
    "\n",
    "    # 可迭代类型 iterable\n",
    "    def __getitem__(self, item):\n",
    "        return self.employee[item]\n",
    "\n",
    "    # 返回一个对象的长度\n",
    "    def __len__(self):\n",
    "        return len(self.employee)"
   ],
   "outputs": [],
   "execution_count": 3
  },
  {
   "cell_type": "code",
   "metadata": {
    "ExecuteTime": {
     "end_time": "2024-06-16T02:49:20.256541Z",
     "start_time": "2024-06-16T02:49:20.247012Z"
    }
   },
   "source": [
    "company = Company(['tom', 'same', 'steve'])  # 实例化时调用__init__\n",
    "print(company)  # 调用__str__"
   ],
   "outputs": [
    {
     "name": "stdout",
     "output_type": "stream",
     "text": [
      "__str__: tom,same,steve\n"
     ]
    }
   ],
   "execution_count": 4
  },
  {
   "cell_type": "code",
   "metadata": {
    "ExecuteTime": {
     "end_time": "2024-06-16T02:49:20.663690Z",
     "start_time": "2024-06-16T02:49:20.654178Z"
    }
   },
   "source": "company  # 调用__repr__",
   "outputs": [
    {
     "data": {
      "text/plain": [
       "__repr__: tom,same,steve"
      ]
     },
     "execution_count": 5,
     "metadata": {},
     "output_type": "execute_result"
    }
   ],
   "execution_count": 5
  },
  {
   "metadata": {},
   "cell_type": "markdown",
   "source": "有了`__getitem__`，对象可以当作iterable类型进行操作（遍历，切片等）"
  },
  {
   "metadata": {
    "ExecuteTime": {
     "end_time": "2024-06-16T02:51:03.983621Z",
     "start_time": "2024-06-16T02:51:03.971903Z"
    }
   },
   "cell_type": "code",
   "source": [
    "# 直接对对象实例进行遍历\n",
    "for x in company:\n",
    "    print(x)\n",
    "# 切片\n",
    "print(\"切片\", company[:-1])"
   ],
   "outputs": [
    {
     "name": "stdout",
     "output_type": "stream",
     "text": [
      "tom\n",
      "same\n",
      "steve\n",
      "切片 ['tom', 'same']\n"
     ]
    }
   ],
   "execution_count": 16
  },
  {
   "metadata": {},
   "cell_type": "markdown",
   "source": [
    "`__len__`可以直接返回对象的长度  \n",
    "len()对python内置的原生对象(set, list, dict)会直接读取C定义的结构体，而不是通过遍历计算长度"
   ]
  },
  {
   "metadata": {
    "ExecuteTime": {
     "end_time": "2024-06-16T02:51:48.348657Z",
     "start_time": "2024-06-16T02:51:48.332137Z"
    }
   },
   "cell_type": "code",
   "source": "len(company)",
   "outputs": [
    {
     "data": {
      "text/plain": [
       "3"
      ]
     },
     "execution_count": 17,
     "metadata": {},
     "output_type": "execute_result"
    }
   ],
   "execution_count": 17
  },
  {
   "metadata": {},
   "cell_type": "markdown",
   "source": "普通的类如果没有对应的魔法函数，操作会失效"
  },
  {
   "metadata": {
    "ExecuteTime": {
     "end_time": "2024-06-16T02:58:19.055789Z",
     "start_time": "2024-06-16T02:58:19.047733Z"
    }
   },
   "cell_type": "code",
   "source": [
    "class Example:\n",
    "    def __init__(self, employee_list) -> None:\n",
    "        self.employee = employee_list\n",
    "\n",
    "# 以下操作报错\n",
    "# len(Example(['tom', 'same', 'steve']))"
   ],
   "outputs": [],
   "execution_count": 19
  },
  {
   "metadata": {},
   "cell_type": "markdown",
   "source": "`TypeError: object of type 'Example' has no len()`"
  },
  {
   "metadata": {},
   "cell_type": "markdown",
   "source": "魔法函数的一些运用：数值运算"
  },
  {
   "cell_type": "code",
   "execution_count": 23,
   "metadata": {},
   "outputs": [
    {
     "name": "stdout",
     "output_type": "stream",
     "text": [
      "<__main__.Numbers object at 0x78133c0242f0>\n"
     ]
    },
    {
     "data": {
      "text/plain": [
       "10"
      ]
     },
     "execution_count": 23,
     "metadata": {},
     "output_type": "execute_result"
    }
   ],
   "source": [
    "# 对一个Number类取绝对值\n",
    "class Numbers:\n",
    "    def __init__(self, num) -> None:\n",
    "        self.num = num\n",
    "\n",
    "    # 取绝对值，\n",
    "    def __abs__(self):\n",
    "        return abs(self.num)\n",
    "\n",
    "\n",
    "n = Numbers(-10)\n",
    "# 通过abs()调用，直接放入class\n",
    "print(n)\n",
    "abs(n)"
   ]
  },
  {
   "cell_type": "code",
   "execution_count": 26,
   "metadata": {},
   "outputs": [
    {
     "name": "stdout",
     "output_type": "stream",
     "text": [
      "[4, 6]\n"
     ]
    }
   ],
   "source": [
    "# 二维向量运算的定义\n",
    "class VectorD2:\n",
    "    def __init__(self, x, y) -> None:\n",
    "        self.x = x\n",
    "        self.y = y\n",
    "\n",
    "    # 向量加法\n",
    "    def __add__(self, other_vec):\n",
    "        return VectorD2(self.x + other_vec.x, self.y + other_vec.y)\n",
    "\n",
    "    def __str__(self) -> str:\n",
    "        return \"[%d, %d]\" % (self.x, self.y)\n",
    "\n",
    "\n",
    "# 二维向量类的相加操作\n",
    "vec_1 = VectorD2(1, 2)\n",
    "vec_2 = VectorD2(3, 4)\n",
    "print(vec_1 + vec_2)"
   ]
  },
  {
   "cell_type": "markdown",
   "metadata": {},
   "source": ""
  }
 ],
 "metadata": {
  "kernelspec": {
   "display_name": "venv",
   "language": "python",
   "name": "python3"
  },
  "language_info": {
   "codemirror_mode": {
    "name": "ipython",
    "version": 3
   },
   "file_extension": ".py",
   "mimetype": "text/x-python",
   "name": "python",
   "nbconvert_exporter": "python",
   "pygments_lexer": "ipython3",
   "version": "3.12.3"
  }
 },
 "nbformat": 4,
 "nbformat_minor": 2
}
