{
 "cells": [
  {
   "metadata": {},
   "cell_type": "markdown",
   "source": "### Python中一切都是对象",
   "id": "1fee6b4b70fc0470"
  },
  {
   "metadata": {},
   "cell_type": "markdown",
   "source": "定义一个打印名字的函数和class",
   "id": "b25d024a221b5f4d"
  },
  {
   "metadata": {
    "ExecuteTime": {
     "end_time": "2024-06-16T02:42:50.203856Z",
     "start_time": "2024-06-16T02:42:50.188796Z"
    }
   },
   "cell_type": "code",
   "source": [
    "def func(name):\n",
    "    print(__name__, name)\n",
    "\n",
    "\n",
    "class Person:\n",
    "    def __init__(self, name):\n",
    "        print(name)"
   ],
   "id": "76cc4217c26ddc13",
   "outputs": [],
   "execution_count": 25
  },
  {
   "metadata": {},
   "cell_type": "markdown",
   "source": "1.函数和class可以赋值给一个变量",
   "id": "eb1f6427c986663"
  },
  {
   "metadata": {
    "ExecuteTime": {
     "end_time": "2024-06-16T02:42:50.218981Z",
     "start_time": "2024-06-16T02:42:50.204856Z"
    }
   },
   "cell_type": "code",
   "source": [
    "my_func = func\n",
    "my_func('John')"
   ],
   "id": "5c9c14f36fbf8a1",
   "outputs": [
    {
     "name": "stdout",
     "output_type": "stream",
     "text": [
      "__main__ John\n"
     ]
    }
   ],
   "execution_count": 26
  },
  {
   "metadata": {
    "ExecuteTime": {
     "end_time": "2024-06-16T02:42:50.234022Z",
     "start_time": "2024-06-16T02:42:50.219975Z"
    }
   },
   "cell_type": "code",
   "source": [
    "my_person = Person\n",
    "my_person('John')"
   ],
   "id": "a55e3289b8148601",
   "outputs": [
    {
     "name": "stdout",
     "output_type": "stream",
     "text": [
      "John\n"
     ]
    },
    {
     "data": {
      "text/plain": [
       "<__main__.Person at 0x2186348f100>"
      ]
     },
     "execution_count": 27,
     "metadata": {},
     "output_type": "execute_result"
    }
   ],
   "execution_count": 27
  },
  {
   "metadata": {},
   "cell_type": "markdown",
   "source": "2.函数和class可以添加到集合对象中 ",
   "id": "9ca2dbccac29f502"
  },
  {
   "metadata": {
    "ExecuteTime": {
     "end_time": "2024-06-16T02:42:50.249489Z",
     "start_time": "2024-06-16T02:42:50.235015Z"
    }
   },
   "cell_type": "code",
   "source": [
    "# 将函数和class加入list中\n",
    "obj_lists = [func, Person]\n",
    "# 遍历所有对象,直接调用\n",
    "for x in obj_lists:\n",
    "    print(x(\"Steven\"))"
   ],
   "id": "1e4310f33bf03423",
   "outputs": [
    {
     "name": "stdout",
     "output_type": "stream",
     "text": [
      "__main__ Steven\n",
      "None\n",
      "Steven\n",
      "<__main__.Person object at 0x00000218621DF7C0>\n"
     ]
    }
   ],
   "execution_count": 28
  },
  {
   "metadata": {},
   "cell_type": "markdown",
   "source": [
    "输出解释：\n",
    "* 第一个是`print(__name__, name)`的打印结果\n",
    "* 第二个是`func`函数的返回结果，函数没有return值默认返回None\n",
    "* 第三个是`class Person`的`__init__`构造方法中输出的结果\n",
    "* 第四个是`class Person`本身"
   ],
   "id": "dde539d7c866db2d"
  },
  {
   "metadata": {},
   "cell_type": "markdown",
   "source": "3.函数和class可以作为参数传递",
   "id": "a23afa0bd7487165"
  },
  {
   "metadata": {
    "ExecuteTime": {
     "end_time": "2024-06-16T02:42:50.265085Z",
     "start_time": "2024-06-16T02:42:50.250490Z"
    }
   },
   "cell_type": "code",
   "source": [
    "obj_lists.append(func)\n",
    "obj_lists.append(Person)\n",
    "print(obj_lists)"
   ],
   "id": "6d2e1625c0801b2a",
   "outputs": [
    {
     "name": "stdout",
     "output_type": "stream",
     "text": [
      "[<function func at 0x000002186234DB80>, <class '__main__.Person'>, <function func at 0x000002186234DB80>, <class '__main__.Person'>]\n"
     ]
    }
   ],
   "execution_count": 29
  },
  {
   "metadata": {},
   "cell_type": "markdown",
   "source": "4.函数和class可以当返回值",
   "id": "c675ee5eb43db00f"
  },
  {
   "metadata": {
    "ExecuteTime": {
     "end_time": "2024-06-16T02:42:50.281156Z",
     "start_time": "2024-06-16T02:42:50.266079Z"
    }
   },
   "cell_type": "code",
   "source": [
    "# 应用：装饰器\n",
    "def decorator():\n",
    "    # 运行函数前做些事情，比如打印文本\n",
    "    print(\"-- decorator start\")\n",
    "    return func\n",
    "\n",
    "my_func = decorator()\n",
    "my_func(\"John\")"
   ],
   "id": "8c186ff7922754d5",
   "outputs": [
    {
     "name": "stdout",
     "output_type": "stream",
     "text": [
      "-- decorator start\n",
      "__main__ John\n"
     ]
    }
   ],
   "execution_count": 30
  }
 ],
 "metadata": {
  "kernelspec": {
   "display_name": "Python 3",
   "language": "python",
   "name": "python3"
  },
  "language_info": {
   "codemirror_mode": {
    "name": "ipython",
    "version": 2
   },
   "file_extension": ".py",
   "mimetype": "text/x-python",
   "name": "python",
   "nbconvert_exporter": "python",
   "pygments_lexer": "ipython2",
   "version": "2.7.6"
  }
 },
 "nbformat": 4,
 "nbformat_minor": 5
}
